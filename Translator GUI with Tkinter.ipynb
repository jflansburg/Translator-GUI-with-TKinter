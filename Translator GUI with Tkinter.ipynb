{
 "cells": [
  {
   "cell_type": "code",
   "execution_count": 1,
   "metadata": {},
   "outputs": [],
   "source": [
    "from tkinter import *\n",
    "from translate import Translator"
   ]
  },
  {
   "cell_type": "code",
   "execution_count": 11,
   "metadata": {},
   "outputs": [],
   "source": [
    "#Translator\n",
    "\n",
    "def translate():\n",
    "    translator = Translator(from_lang= lan1.get(), to_lang= lan2.get())\n",
    "    translation = translator.translate(var.get())\n",
    "    var1.set(translation)"
   ]
  },
  {
   "cell_type": "code",
   "execution_count": 10,
   "metadata": {},
   "outputs": [],
   "source": [
    "#Tkinter\n",
    "root = Tk()\n",
    "root.title(\"Translator\")\n",
    "\n",
    "mainframe = Frame(root)\n",
    "mainframe.grid(column=0,row=0, sticky=(N,W,E,S))\n",
    "mainframe.columnconfigure(0, weight =1)\n",
    "mainframe.rowconfigure(0, weight = 1)\n",
    "mainframe.pack(pady = 100, padx = 100)\n",
    "\n",
    "#set variable\n",
    "lan1 = StringVar(root)\n",
    "lan2 = StringVar(root)\n",
    "\n",
    "#Choices\n",
    "choices = {'English','Spanish','French','German','Hindi'}\n",
    "\n",
    "#default choices\n",
    "lan1.set('English')\n",
    "lan2.set('Spanish')\n",
    "\n",
    "#create dropdowns\n",
    "lan1menu = OptionMenu(mainframe, lan1, *choices)\n",
    "Label(mainframe, text=\"Select a language\").grid(row=0,column=1)\n",
    "lan1menu.grid(row=1, column=1)\n",
    "\n",
    "lan2menu = OptionMenu(mainframe, lan2, *choices)\n",
    "Label(mainframe, text = \"Select a language\").grid(row=0, column =2)\n",
    "lan2menu.grid(row=1, column =2)\n",
    "\n",
    "#text box for user input\n",
    "Label(mainframe, text=\"Enter Text\").grid(row=2, column=0)\n",
    "var = StringVar()\n",
    "textbox = Entry(mainframe, textvariable=var).grid(row=2,column=1)\n",
    "\n",
    "#text box for output\n",
    "Label(mainframe, text=\"Output Text\").grid(row=2, column=2)\n",
    "var1 = StringVar()\n",
    "textbox = Entry(mainframe, textvariable = var1).grid(row=2,column=3)\n",
    "\n",
    "#button\n",
    "b = Button(mainframe, text= \"Translate\", command = translate).grid(row=3,column=1, columnspan=3)\n",
    "\n",
    "root.mainloop()"
   ]
  },
  {
   "cell_type": "code",
   "execution_count": null,
   "metadata": {},
   "outputs": [],
   "source": []
  },
  {
   "cell_type": "code",
   "execution_count": null,
   "metadata": {},
   "outputs": [],
   "source": []
  },
  {
   "cell_type": "code",
   "execution_count": null,
   "metadata": {},
   "outputs": [],
   "source": []
  },
  {
   "cell_type": "code",
   "execution_count": null,
   "metadata": {},
   "outputs": [],
   "source": []
  },
  {
   "cell_type": "code",
   "execution_count": null,
   "metadata": {},
   "outputs": [],
   "source": []
  },
  {
   "cell_type": "code",
   "execution_count": null,
   "metadata": {},
   "outputs": [],
   "source": []
  },
  {
   "cell_type": "code",
   "execution_count": null,
   "metadata": {},
   "outputs": [],
   "source": []
  },
  {
   "cell_type": "code",
   "execution_count": null,
   "metadata": {},
   "outputs": [],
   "source": []
  },
  {
   "cell_type": "code",
   "execution_count": null,
   "metadata": {},
   "outputs": [],
   "source": []
  },
  {
   "cell_type": "code",
   "execution_count": null,
   "metadata": {},
   "outputs": [],
   "source": []
  }
 ],
 "metadata": {
  "kernelspec": {
   "display_name": "Python 3",
   "language": "python",
   "name": "python3"
  },
  "language_info": {
   "codemirror_mode": {
    "name": "ipython",
    "version": 3
   },
   "file_extension": ".py",
   "mimetype": "text/x-python",
   "name": "python",
   "nbconvert_exporter": "python",
   "pygments_lexer": "ipython3",
   "version": "3.7.4"
  }
 },
 "nbformat": 4,
 "nbformat_minor": 2
}
